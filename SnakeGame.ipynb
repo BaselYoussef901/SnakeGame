{
 "cells": [
  {
   "cell_type": "markdown",
   "metadata": {},
   "source": [
    "# Required Libraries"
   ]
  },
  {
   "cell_type": "code",
   "execution_count": 24,
   "metadata": {},
   "outputs": [],
   "source": [
    "import pygame\n",
    "import random"
   ]
  },
  {
   "cell_type": "markdown",
   "metadata": {},
   "source": [
    "# Game Settings"
   ]
  },
  {
   "cell_type": "markdown",
   "metadata": {},
   "source": [
    "### Initializes"
   ]
  },
  {
   "cell_type": "code",
   "execution_count": 25,
   "metadata": {},
   "outputs": [],
   "source": [
    "pygame.init()\n",
    "BLACK = (0, 0, 0)\n",
    "WHITE = (255, 255, 255)\n",
    "GREEN = (0, 255, 0)\n",
    "RED = (220, 0, 0)\n",
    "screen_width = 800\n",
    "screen_height = 600\n",
    "screen = pygame.display.set_mode((screen_width, screen_height))\n",
    "pygame.display.set_caption(\"Snake Game\")\n",
    "clock = pygame.time.Clock()"
   ]
  },
  {
   "cell_type": "code",
   "execution_count": 26,
   "metadata": {},
   "outputs": [],
   "source": [
    "font_style = pygame.font.SysFont(None, 50)\n",
    "def message(msg, color):\n",
    "    message_text = font_style.render(msg, True, color)\n",
    "    screen.blit(message_text, [screen_width / 6, screen_height / 3])"
   ]
  },
  {
   "cell_type": "markdown",
   "metadata": {},
   "source": [
    "### Snake Properties"
   ]
  },
  {
   "cell_type": "code",
   "execution_count": 27,
   "metadata": {},
   "outputs": [],
   "source": [
    "snake_block_size = 20\n",
    "snake_speed = 15"
   ]
  },
  {
   "cell_type": "markdown",
   "metadata": {},
   "source": [
    "### Game"
   ]
  },
  {
   "cell_type": "code",
   "execution_count": 28,
   "metadata": {},
   "outputs": [],
   "source": [
    "def GenerateRandomFood():\n",
    "    foodx = round(random.randrange(0, screen_width - snake_block_size) / 20.0) * 20.0\n",
    "    foody = round(random.randrange(0, screen_height - snake_block_size) / 20.0) * 20.0\n",
    "    return foodx, foody"
   ]
  },
  {
   "cell_type": "code",
   "execution_count": 29,
   "metadata": {},
   "outputs": [],
   "source": [
    "def snakeGame():\n",
    "    # Game Status\n",
    "    game_over = False\n",
    "    game_close = False\n",
    "\n",
    "    # Snake position starts in the middle\n",
    "    x1 = screen_width / 2\n",
    "    y1 = screen_height / 2\n",
    "    x1_change = 0\n",
    "    y1_change = 0\n",
    "\n",
    "    # Snake eat growing\n",
    "    snake_list = []\n",
    "    length_of_snake = 1\n",
    "\n",
    "\n",
    "    # Generate initial position of the snake food\n",
    "    Fx, Fy = GenerateRandomFood()\n",
    "\n",
    "    # Game Starts\n",
    "    while not game_over:\n",
    "        # Game ends (Eats itself or go to the edges) -> Shows the ending window\n",
    "        while game_close:\n",
    "            screen.fill(BLACK)\n",
    "            message(\"Game Over! Q-Quit or C-Continue Again\", RED)\n",
    "            pygame.display.update()\n",
    "\n",
    "            # User Input\n",
    "            for event in pygame.event.get():\n",
    "                if event.type == pygame.KEYDOWN:\n",
    "                    if event.key == pygame.K_q:\n",
    "                        game_over = True\n",
    "                        game_close = False\n",
    "                    if event.key == pygame.K_c:\n",
    "                        snakeGame()\n",
    "            \n",
    "        # Snake Moves\n",
    "        for event in pygame.event.get():\n",
    "            if event.type == pygame.QUIT:\n",
    "                game_over = True\n",
    "            if event.type == pygame.KEYDOWN:\n",
    "                if event.key == pygame.K_LEFT:\n",
    "                    x1_change = -snake_block_size\n",
    "                    y1_change = 0\n",
    "                elif event.key == pygame.K_RIGHT:\n",
    "                    x1_change = snake_block_size\n",
    "                    y1_change = 0\n",
    "                elif event.key == pygame.K_UP:\n",
    "                    y1_change = -snake_block_size\n",
    "                    x1_change = 0\n",
    "                elif event.key == pygame.K_DOWN:\n",
    "                    y1_change = snake_block_size\n",
    "                    x1_change = 0\n",
    "\n",
    "        # Snake goes into walls\n",
    "        if x1 >= screen_width or x1 < 0 or y1 >= screen_height or y1 < 0:\n",
    "            game_close = True\n",
    "        \n",
    "        # Update Snake Position - length\n",
    "        x1 += x1_change\n",
    "        y1 += y1_change\n",
    "        screen.fill(BLACK)\n",
    "        pygame.draw.rect(screen, GREEN, [Fx, Fy, snake_block_size, snake_block_size])\n",
    "        snake_head = []\n",
    "        snake_head.append(x1)\n",
    "        snake_head.append(y1)\n",
    "        snake_list.append(snake_head)\n",
    "        if len(snake_list) > length_of_snake:\n",
    "            del snake_list[0]\n",
    "\n",
    "        # Snake eats itself\n",
    "        for x in snake_list[:-1]:\n",
    "            if x == snake_head:\n",
    "                game_close = True\n",
    "\n",
    "        # draw the snake\n",
    "        for x in snake_list:\n",
    "            pygame.draw.rect(screen, WHITE, [x[0], x[1], snake_block_size, snake_block_size])\n",
    "        pygame.display.update()\n",
    "\n",
    "        # if the snake eats\n",
    "        if x1 == Fx and y1 == Fy:\n",
    "            Fx, Fy = GenerateRandomFood()\n",
    "            length_of_snake += 1\n",
    "        \n",
    "        # Game speed\n",
    "        clock.tick(snake_speed)\n",
    "    \n",
    "    pygame.quit()    "
   ]
  },
  {
   "cell_type": "code",
   "execution_count": 30,
   "metadata": {},
   "outputs": [],
   "source": [
    "if __name__ == '__main__':\n",
    "    snakeGame()"
   ]
  }
 ],
 "metadata": {
  "kernelspec": {
   "display_name": "Python 3",
   "language": "python",
   "name": "python3"
  },
  "language_info": {
   "codemirror_mode": {
    "name": "ipython",
    "version": 3
   },
   "file_extension": ".py",
   "mimetype": "text/x-python",
   "name": "python",
   "nbconvert_exporter": "python",
   "pygments_lexer": "ipython3",
   "version": "3.10.8"
  }
 },
 "nbformat": 4,
 "nbformat_minor": 2
}
